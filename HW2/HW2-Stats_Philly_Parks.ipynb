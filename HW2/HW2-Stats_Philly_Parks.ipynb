{
  "nbformat": 4,
  "nbformat_minor": 0,
  "metadata": {
    "colab": {
      "provenance": [],
      "include_colab_link": true
    },
    "kernelspec": {
      "name": "python3",
      "display_name": "Python 3"
    },
    "language_info": {
      "name": "python"
    }
  },
  "cells": [
    {
      "cell_type": "markdown",
      "metadata": {
        "id": "view-in-github",
        "colab_type": "text"
      },
      "source": [
        "<a href=\"https://colab.research.google.com/github/anner-paldor/geodata_course/blob/main/HW2/HW2-Stats_Philly_Parks.ipynb\" target=\"_parent\"><img src=\"https://colab.research.google.com/assets/colab-badge.svg\" alt=\"Open In Colab\"/></a>"
      ]
    },
    {
      "cell_type": "markdown",
      "metadata": {
        "id": "8f3dS08NNI9L"
      },
      "source": [
        "# HW2 : Summary statistics - For GEOG271\n",
        "\n",
        "**By Emmanuel Chinkaka**\n",
        "\n",
        "\n",
        "This homework performs strictly an exploratory analysis of the data\n",
        "\n",
        "Consult the class demo noteboo for more: https://github.com/EmmanuelChinkaka/W23-GEOG271/blob/main/Class_Demo/Descriptive_Stats.ipynb \n",
        "\n",
        "\n",
        "**important**\n",
        "turn in the notebook by uploading it to your github repository in a folder called HW2. Before you upload the notebook make sure you \n",
        "- click above: Runtime -> Restart and run all\n",
        "\n",
        "this will assure that your notebook has no bugs due to running the cells of code out of order.\n"
      ]
    },
    {
      "cell_type": "markdown",
      "source": [
        "**This assigment explores the Philadephia parks data**"
      ],
      "metadata": {
        "id": "Es_iUZSOkU8I"
      }
    },
    {
      "cell_type": "code",
      "execution_count": 1,
      "metadata": {
        "id": "cQ2-f1MR5zO5"
      },
      "outputs": [],
      "source": [
        "# Importing package\n",
        "\n",
        "import pandas as pd\n",
        "import pylab\n",
        "import numpy as np\n",
        "import matplotlib.pyplot as plt\n",
        "import seaborn as sns\n"
      ]
    },
    {
      "cell_type": "markdown",
      "source": [
        "**Read in the data about the Philly parks**\n",
        "\n",
        "you can find the data at http://data-phl.opendata.arcgis.com/datasets/d52445160ab14380a673e5849203eb64_0.csv\n",
        "**Copy the URL above and use it to load the data**"
      ],
      "metadata": {
        "id": "F6UnShk586W3"
      }
    },
    {
      "cell_type": "code",
      "source": [
        "# Reading the Phylly's park data from the URL baove\n",
        "pparks = pd.read_csv('http://data-phl.opendata.arcgis.com/datasets/d52445160ab14380a673e5849203eb64_0.csv')"
      ],
      "metadata": {
        "id": "zMdjrPrt8_Gc"
      },
      "execution_count": 2,
      "outputs": []
    },
    {
      "cell_type": "code",
      "source": [
        "# get the info and the statistical description of the dataframe\n",
        "pparks.info()"
      ],
      "metadata": {
        "id": "Tu-0OQ8ECQEv",
        "colab": {
          "base_uri": "https://localhost:8080/"
        },
        "outputId": "ec66c2a2-adbe-40b1-8f50-91f5b2a27a5e"
      },
      "execution_count": 3,
      "outputs": [
        {
          "output_type": "stream",
          "name": "stdout",
          "text": [
            "<class 'pandas.core.frame.DataFrame'>\n",
            "RangeIndex: 514 entries, 0 to 513\n",
            "Data columns (total 25 columns):\n",
            " #   Column                   Non-Null Count  Dtype  \n",
            "---  ------                   --------------  -----  \n",
            " 0   OBJECTID                 514 non-null    int64  \n",
            " 1   PUBLIC_NAME              514 non-null    object \n",
            " 2   PARENT_NAME              514 non-null    object \n",
            " 3   NESTED                   514 non-null    object \n",
            " 4   OFFICIAL_NAME            285 non-null    object \n",
            " 5   LABEL                    512 non-null    object \n",
            " 6   ALIAS                    353 non-null    object \n",
            " 7   DPP_ASSET_ID             514 non-null    int64  \n",
            " 8   ADDRESS_911              506 non-null    object \n",
            " 9   ZIP_CODE                 514 non-null    int64  \n",
            " 10  ADDRESS_BRT              430 non-null    object \n",
            " 11  ALIAS_ADDRESS            427 non-null    object \n",
            " 12  ACREAGE                  514 non-null    float64\n",
            " 13  PROPERTY_CLASSIFICATION  514 non-null    object \n",
            " 14  PPR_USE                  514 non-null    object \n",
            " 15  PPR_DISTRICT             0 non-null      float64\n",
            " 16  PPR_OPS_DISTRICT         514 non-null    object \n",
            " 17  COUNCIL_DISTRICT         513 non-null    object \n",
            " 18  POLICE_DISTRICT          513 non-null    object \n",
            " 19  CITY_SCALE_MAPS          514 non-null    object \n",
            " 20  LOCAL_SCALE_MAPS         514 non-null    object \n",
            " 21  PROGRAM_SITES            514 non-null    object \n",
            " 22  COMMENTS                 145 non-null    object \n",
            " 23  Shape__Area              514 non-null    float64\n",
            " 24  Shape__Length            514 non-null    float64\n",
            "dtypes: float64(4), int64(3), object(18)\n",
            "memory usage: 100.5+ KB\n"
          ]
        }
      ]
    },
    {
      "cell_type": "code",
      "metadata": {
        "id": "16pd9FMlPpBA",
        "colab": {
          "base_uri": "https://localhost:8080/"
        },
        "outputId": "4752b1aa-4fb0-4723-b3e1-83ab47e7ed87"
      },
      "source": [
        "# show the shape of the parks file dataframe\n",
        "pparks.shape"
      ],
      "execution_count": 5,
      "outputs": [
        {
          "output_type": "execute_result",
          "data": {
            "text/plain": [
              "(514, 25)"
            ]
          },
          "metadata": {},
          "execution_count": 5
        }
      ]
    },
    {
      "cell_type": "code",
      "source": [
        "# show the column names in the dataframe\n",
        "pparks.columns"
      ],
      "metadata": {
        "colab": {
          "base_uri": "https://localhost:8080/"
        },
        "id": "B4qPHupF-cwY",
        "outputId": "6027bb43-bfe4-4491-d9e5-2ee5e50eec82"
      },
      "execution_count": 6,
      "outputs": [
        {
          "output_type": "execute_result",
          "data": {
            "text/plain": [
              "Index(['OBJECTID', 'PUBLIC_NAME', 'PARENT_NAME', 'NESTED', 'OFFICIAL_NAME',\n",
              "       'LABEL', 'ALIAS', 'DPP_ASSET_ID', 'ADDRESS_911', 'ZIP_CODE',\n",
              "       'ADDRESS_BRT', 'ALIAS_ADDRESS', 'ACREAGE', 'PROPERTY_CLASSIFICATION',\n",
              "       'PPR_USE', 'PPR_DISTRICT', 'PPR_OPS_DISTRICT', 'COUNCIL_DISTRICT',\n",
              "       'POLICE_DISTRICT', 'CITY_SCALE_MAPS', 'LOCAL_SCALE_MAPS',\n",
              "       'PROGRAM_SITES', 'COMMENTS', 'Shape__Area', 'Shape__Length'],\n",
              "      dtype='object')"
            ]
          },
          "metadata": {},
          "execution_count": 6
        }
      ]
    },
    {
      "cell_type": "code",
      "source": [
        "# show the beginning of the dataframe (the first 5 rows)\n",
        "pparks.head()"
      ],
      "metadata": {
        "colab": {
          "base_uri": "https://localhost:8080/",
          "height": 456
        },
        "id": "RS8Ipjvw-jge",
        "outputId": "9d0f00b6-7604-4ba2-9c6e-7d2765f27170"
      },
      "execution_count": 7,
      "outputs": [
        {
          "output_type": "execute_result",
          "data": {
            "text/plain": [
              "   OBJECTID                     PUBLIC_NAME                   PARENT_NAME  \\\n",
              "0         1    Eastwick Regional Playground  Eastwick Regional Playground   \n",
              "1         2        Whitby Avenue Playground              Cobbs Creek Park   \n",
              "2         3          29th and Passyunk Park        29th and Passyunk Park   \n",
              "3         4           Price Street Play Lot         Price Street Play Lot   \n",
              "4         5  Sedgley Woods Disc Golf Course           East Fairmount Park   \n",
              "\n",
              "  NESTED                 OFFICIAL_NAME              LABEL ALIAS  DPP_ASSET_ID  \\\n",
              "0      N  Eastwick Regional Playground  Eastwick Regional   NaN           499   \n",
              "1      Y                           NaN             Whitby                1372   \n",
              "2      N                           NaN  29th and Passyunk                 432   \n",
              "3      N                           NaN           Price St                 826   \n",
              "4      Y                           NaN      Sedgley Woods                3013   \n",
              "\n",
              "            ADDRESS_911  ZIP_CODE  ... PPR_DISTRICT PPR_OPS_DISTRICT  \\\n",
              "0       7899 MERCURY PL     19153  ...          NaN                8   \n",
              "1  1300 COBBS CREEK PKY     19143  ...          NaN                8   \n",
              "2   2827 W PASSYUNK AVE     19145  ...          NaN                7   \n",
              "3        185 W PRICE ST     19144  ...          NaN                4   \n",
              "4     3400 RESERVOIR DR     19121  ...          NaN                5   \n",
              "\n",
              "   COUNCIL_DISTRICT POLICE_DISTRICT CITY_SCALE_MAPS  LOCAL_SCALE_MAPS  \\\n",
              "0                 2              12               Y                 Y   \n",
              "1                 3              12               Y                 Y   \n",
              "2                 2               1               Y                 Y   \n",
              "3                 8              14               Y                 Y   \n",
              "4                 4              22               Y                 Y   \n",
              "\n",
              "  PROGRAM_SITES COMMENTS    Shape__Area Shape__Length  \n",
              "0             Y      NaN  159370.914062   3781.877533  \n",
              "1             Y      NaN   38916.484375    949.498194  \n",
              "2             Y      NaN    3830.242188    247.032048  \n",
              "3             N      NaN    1249.839844    143.734003  \n",
              "4             N      NaN  210135.566406   1984.375466  \n",
              "\n",
              "[5 rows x 25 columns]"
            ],
            "text/html": [
              "\n",
              "  <div id=\"df-8aa16b89-2831-4a3d-bf64-42b5611ae59c\">\n",
              "    <div class=\"colab-df-container\">\n",
              "      <div>\n",
              "<style scoped>\n",
              "    .dataframe tbody tr th:only-of-type {\n",
              "        vertical-align: middle;\n",
              "    }\n",
              "\n",
              "    .dataframe tbody tr th {\n",
              "        vertical-align: top;\n",
              "    }\n",
              "\n",
              "    .dataframe thead th {\n",
              "        text-align: right;\n",
              "    }\n",
              "</style>\n",
              "<table border=\"1\" class=\"dataframe\">\n",
              "  <thead>\n",
              "    <tr style=\"text-align: right;\">\n",
              "      <th></th>\n",
              "      <th>OBJECTID</th>\n",
              "      <th>PUBLIC_NAME</th>\n",
              "      <th>PARENT_NAME</th>\n",
              "      <th>NESTED</th>\n",
              "      <th>OFFICIAL_NAME</th>\n",
              "      <th>LABEL</th>\n",
              "      <th>ALIAS</th>\n",
              "      <th>DPP_ASSET_ID</th>\n",
              "      <th>ADDRESS_911</th>\n",
              "      <th>ZIP_CODE</th>\n",
              "      <th>...</th>\n",
              "      <th>PPR_DISTRICT</th>\n",
              "      <th>PPR_OPS_DISTRICT</th>\n",
              "      <th>COUNCIL_DISTRICT</th>\n",
              "      <th>POLICE_DISTRICT</th>\n",
              "      <th>CITY_SCALE_MAPS</th>\n",
              "      <th>LOCAL_SCALE_MAPS</th>\n",
              "      <th>PROGRAM_SITES</th>\n",
              "      <th>COMMENTS</th>\n",
              "      <th>Shape__Area</th>\n",
              "      <th>Shape__Length</th>\n",
              "    </tr>\n",
              "  </thead>\n",
              "  <tbody>\n",
              "    <tr>\n",
              "      <th>0</th>\n",
              "      <td>1</td>\n",
              "      <td>Eastwick Regional Playground</td>\n",
              "      <td>Eastwick Regional Playground</td>\n",
              "      <td>N</td>\n",
              "      <td>Eastwick Regional Playground</td>\n",
              "      <td>Eastwick Regional</td>\n",
              "      <td>NaN</td>\n",
              "      <td>499</td>\n",
              "      <td>7899 MERCURY PL</td>\n",
              "      <td>19153</td>\n",
              "      <td>...</td>\n",
              "      <td>NaN</td>\n",
              "      <td>8</td>\n",
              "      <td>2</td>\n",
              "      <td>12</td>\n",
              "      <td>Y</td>\n",
              "      <td>Y</td>\n",
              "      <td>Y</td>\n",
              "      <td>NaN</td>\n",
              "      <td>159370.914062</td>\n",
              "      <td>3781.877533</td>\n",
              "    </tr>\n",
              "    <tr>\n",
              "      <th>1</th>\n",
              "      <td>2</td>\n",
              "      <td>Whitby Avenue Playground</td>\n",
              "      <td>Cobbs Creek Park</td>\n",
              "      <td>Y</td>\n",
              "      <td>NaN</td>\n",
              "      <td>Whitby</td>\n",
              "      <td></td>\n",
              "      <td>1372</td>\n",
              "      <td>1300 COBBS CREEK PKY</td>\n",
              "      <td>19143</td>\n",
              "      <td>...</td>\n",
              "      <td>NaN</td>\n",
              "      <td>8</td>\n",
              "      <td>3</td>\n",
              "      <td>12</td>\n",
              "      <td>Y</td>\n",
              "      <td>Y</td>\n",
              "      <td>Y</td>\n",
              "      <td>NaN</td>\n",
              "      <td>38916.484375</td>\n",
              "      <td>949.498194</td>\n",
              "    </tr>\n",
              "    <tr>\n",
              "      <th>2</th>\n",
              "      <td>3</td>\n",
              "      <td>29th and Passyunk Park</td>\n",
              "      <td>29th and Passyunk Park</td>\n",
              "      <td>N</td>\n",
              "      <td>NaN</td>\n",
              "      <td>29th and Passyunk</td>\n",
              "      <td></td>\n",
              "      <td>432</td>\n",
              "      <td>2827 W PASSYUNK AVE</td>\n",
              "      <td>19145</td>\n",
              "      <td>...</td>\n",
              "      <td>NaN</td>\n",
              "      <td>7</td>\n",
              "      <td>2</td>\n",
              "      <td>1</td>\n",
              "      <td>Y</td>\n",
              "      <td>Y</td>\n",
              "      <td>Y</td>\n",
              "      <td>NaN</td>\n",
              "      <td>3830.242188</td>\n",
              "      <td>247.032048</td>\n",
              "    </tr>\n",
              "    <tr>\n",
              "      <th>3</th>\n",
              "      <td>4</td>\n",
              "      <td>Price Street Play Lot</td>\n",
              "      <td>Price Street Play Lot</td>\n",
              "      <td>N</td>\n",
              "      <td>NaN</td>\n",
              "      <td>Price St</td>\n",
              "      <td></td>\n",
              "      <td>826</td>\n",
              "      <td>185 W PRICE ST</td>\n",
              "      <td>19144</td>\n",
              "      <td>...</td>\n",
              "      <td>NaN</td>\n",
              "      <td>4</td>\n",
              "      <td>8</td>\n",
              "      <td>14</td>\n",
              "      <td>Y</td>\n",
              "      <td>Y</td>\n",
              "      <td>N</td>\n",
              "      <td>NaN</td>\n",
              "      <td>1249.839844</td>\n",
              "      <td>143.734003</td>\n",
              "    </tr>\n",
              "    <tr>\n",
              "      <th>4</th>\n",
              "      <td>5</td>\n",
              "      <td>Sedgley Woods Disc Golf Course</td>\n",
              "      <td>East Fairmount Park</td>\n",
              "      <td>Y</td>\n",
              "      <td>NaN</td>\n",
              "      <td>Sedgley Woods</td>\n",
              "      <td></td>\n",
              "      <td>3013</td>\n",
              "      <td>3400 RESERVOIR DR</td>\n",
              "      <td>19121</td>\n",
              "      <td>...</td>\n",
              "      <td>NaN</td>\n",
              "      <td>5</td>\n",
              "      <td>4</td>\n",
              "      <td>22</td>\n",
              "      <td>Y</td>\n",
              "      <td>Y</td>\n",
              "      <td>N</td>\n",
              "      <td>NaN</td>\n",
              "      <td>210135.566406</td>\n",
              "      <td>1984.375466</td>\n",
              "    </tr>\n",
              "  </tbody>\n",
              "</table>\n",
              "<p>5 rows × 25 columns</p>\n",
              "</div>\n",
              "      <button class=\"colab-df-convert\" onclick=\"convertToInteractive('df-8aa16b89-2831-4a3d-bf64-42b5611ae59c')\"\n",
              "              title=\"Convert this dataframe to an interactive table.\"\n",
              "              style=\"display:none;\">\n",
              "        \n",
              "  <svg xmlns=\"http://www.w3.org/2000/svg\" height=\"24px\"viewBox=\"0 0 24 24\"\n",
              "       width=\"24px\">\n",
              "    <path d=\"M0 0h24v24H0V0z\" fill=\"none\"/>\n",
              "    <path d=\"M18.56 5.44l.94 2.06.94-2.06 2.06-.94-2.06-.94-.94-2.06-.94 2.06-2.06.94zm-11 1L8.5 8.5l.94-2.06 2.06-.94-2.06-.94L8.5 2.5l-.94 2.06-2.06.94zm10 10l.94 2.06.94-2.06 2.06-.94-2.06-.94-.94-2.06-.94 2.06-2.06.94z\"/><path d=\"M17.41 7.96l-1.37-1.37c-.4-.4-.92-.59-1.43-.59-.52 0-1.04.2-1.43.59L10.3 9.45l-7.72 7.72c-.78.78-.78 2.05 0 2.83L4 21.41c.39.39.9.59 1.41.59.51 0 1.02-.2 1.41-.59l7.78-7.78 2.81-2.81c.8-.78.8-2.07 0-2.86zM5.41 20L4 18.59l7.72-7.72 1.47 1.35L5.41 20z\"/>\n",
              "  </svg>\n",
              "      </button>\n",
              "      \n",
              "  <style>\n",
              "    .colab-df-container {\n",
              "      display:flex;\n",
              "      flex-wrap:wrap;\n",
              "      gap: 12px;\n",
              "    }\n",
              "\n",
              "    .colab-df-convert {\n",
              "      background-color: #E8F0FE;\n",
              "      border: none;\n",
              "      border-radius: 50%;\n",
              "      cursor: pointer;\n",
              "      display: none;\n",
              "      fill: #1967D2;\n",
              "      height: 32px;\n",
              "      padding: 0 0 0 0;\n",
              "      width: 32px;\n",
              "    }\n",
              "\n",
              "    .colab-df-convert:hover {\n",
              "      background-color: #E2EBFA;\n",
              "      box-shadow: 0px 1px 2px rgba(60, 64, 67, 0.3), 0px 1px 3px 1px rgba(60, 64, 67, 0.15);\n",
              "      fill: #174EA6;\n",
              "    }\n",
              "\n",
              "    [theme=dark] .colab-df-convert {\n",
              "      background-color: #3B4455;\n",
              "      fill: #D2E3FC;\n",
              "    }\n",
              "\n",
              "    [theme=dark] .colab-df-convert:hover {\n",
              "      background-color: #434B5C;\n",
              "      box-shadow: 0px 1px 3px 1px rgba(0, 0, 0, 0.15);\n",
              "      filter: drop-shadow(0px 1px 2px rgba(0, 0, 0, 0.3));\n",
              "      fill: #FFFFFF;\n",
              "    }\n",
              "  </style>\n",
              "\n",
              "      <script>\n",
              "        const buttonEl =\n",
              "          document.querySelector('#df-8aa16b89-2831-4a3d-bf64-42b5611ae59c button.colab-df-convert');\n",
              "        buttonEl.style.display =\n",
              "          google.colab.kernel.accessAllowed ? 'block' : 'none';\n",
              "\n",
              "        async function convertToInteractive(key) {\n",
              "          const element = document.querySelector('#df-8aa16b89-2831-4a3d-bf64-42b5611ae59c');\n",
              "          const dataTable =\n",
              "            await google.colab.kernel.invokeFunction('convertToInteractive',\n",
              "                                                     [key], {});\n",
              "          if (!dataTable) return;\n",
              "\n",
              "          const docLinkHtml = 'Like what you see? Visit the ' +\n",
              "            '<a target=\"_blank\" href=https://colab.research.google.com/notebooks/data_table.ipynb>data table notebook</a>'\n",
              "            + ' to learn more about interactive tables.';\n",
              "          element.innerHTML = '';\n",
              "          dataTable['output_type'] = 'display_data';\n",
              "          await google.colab.output.renderOutput(dataTable, element);\n",
              "          const docLink = document.createElement('div');\n",
              "          docLink.innerHTML = docLinkHtml;\n",
              "          element.appendChild(docLink);\n",
              "        }\n",
              "      </script>\n",
              "    </div>\n",
              "  </div>\n",
              "  "
            ]
          },
          "metadata": {},
          "execution_count": 7
        }
      ]
    },
    {
      "cell_type": "code",
      "source": [
        "# show the end of the dataframe (the last 5 rows)\n",
        "pparks.tail()"
      ],
      "metadata": {
        "colab": {
          "base_uri": "https://localhost:8080/",
          "height": 525
        },
        "id": "RLD_r2_6-tmA",
        "outputId": "b7775d3a-9703-448c-d681-83b7361052c8"
      },
      "execution_count": 8,
      "outputs": [
        {
          "output_type": "execute_result",
          "data": {
            "text/plain": [
              "     OBJECTID                        PUBLIC_NAME  \\\n",
              "509       524                  Tacony Creek Park   \n",
              "510       525     Franklin Delano Roosevelt Park   \n",
              "511       526                       Hunting Park   \n",
              "512       527  Awbury Park and Recreation Center   \n",
              "513       528                        Fisher Park   \n",
              "\n",
              "                           PARENT_NAME NESTED  \\\n",
              "509                  Tacony Creek Park      N   \n",
              "510     Franklin Delano Roosevelt Park      N   \n",
              "511                       Hunting Park      N   \n",
              "512  Awbury Park and Recreation Center      N   \n",
              "513                        Fisher Park      N   \n",
              "\n",
              "                            OFFICIAL_NAME              LABEL  \\\n",
              "509                     Tacony Creek Park  Tacony Creek Park   \n",
              "510  Franklin Delano Roosevelt (FDR) Park           FDR Park   \n",
              "511                                   NaN            Hunting   \n",
              "512     Awbury Park and Recreation Center             Awbury   \n",
              "513                           Fisher Park             Fisher   \n",
              "\n",
              "                                     ALIAS  DPP_ASSET_ID  \\\n",
              "509                         Brookwood Park          1961   \n",
              "510  League Island Park;The Lakes;FDR Park           231   \n",
              "511                                    NaN           845   \n",
              "512                                    NaN           604   \n",
              "513                                    NaN           679   \n",
              "\n",
              "                 ADDRESS_911  ZIP_CODE  ... PPR_DISTRICT PPR_OPS_DISTRICT  \\\n",
              "509                      NaN     19120  ...          NaN                3   \n",
              "510          3500 S BROAD ST     19145  ...          NaN                7   \n",
              "511  1101 W HUNTING PARK AVE     19140  ...          NaN                3   \n",
              "512         6101 ARDLEIGH ST     19138  ...          NaN                4   \n",
              "513         572 W SPENCER ST     19120  ...          NaN                3   \n",
              "\n",
              "     COUNCIL_DISTRICT    POLICE_DISTRICT CITY_SCALE_MAPS  LOCAL_SCALE_MAPS  \\\n",
              "509              7, 9  2, 15, 24, 25, 35               Y                 Y   \n",
              "510                 2                  1               Y                 Y   \n",
              "511                 5                 25               Y                 Y   \n",
              "512                 8                 14               Y                 Y   \n",
              "513                 9                 35               Y                 Y   \n",
              "\n",
              "    PROGRAM_SITES                      COMMENTS   Shape__Area Shape__Length  \n",
              "509             N                           NaN  1.385218e+06  19003.764664  \n",
              "510             N                           NaN  2.388505e+06   6568.830576  \n",
              "511             Y                           NaN  4.911561e+05   4036.792375  \n",
              "512             Y  Review the parcel boundaries  1.930695e+05   2019.278021  \n",
              "513             Y                           NaN  1.693630e+05   1798.578647  \n",
              "\n",
              "[5 rows x 25 columns]"
            ],
            "text/html": [
              "\n",
              "  <div id=\"df-2e16b188-bdb5-4ca0-87e2-e7f5849e4454\">\n",
              "    <div class=\"colab-df-container\">\n",
              "      <div>\n",
              "<style scoped>\n",
              "    .dataframe tbody tr th:only-of-type {\n",
              "        vertical-align: middle;\n",
              "    }\n",
              "\n",
              "    .dataframe tbody tr th {\n",
              "        vertical-align: top;\n",
              "    }\n",
              "\n",
              "    .dataframe thead th {\n",
              "        text-align: right;\n",
              "    }\n",
              "</style>\n",
              "<table border=\"1\" class=\"dataframe\">\n",
              "  <thead>\n",
              "    <tr style=\"text-align: right;\">\n",
              "      <th></th>\n",
              "      <th>OBJECTID</th>\n",
              "      <th>PUBLIC_NAME</th>\n",
              "      <th>PARENT_NAME</th>\n",
              "      <th>NESTED</th>\n",
              "      <th>OFFICIAL_NAME</th>\n",
              "      <th>LABEL</th>\n",
              "      <th>ALIAS</th>\n",
              "      <th>DPP_ASSET_ID</th>\n",
              "      <th>ADDRESS_911</th>\n",
              "      <th>ZIP_CODE</th>\n",
              "      <th>...</th>\n",
              "      <th>PPR_DISTRICT</th>\n",
              "      <th>PPR_OPS_DISTRICT</th>\n",
              "      <th>COUNCIL_DISTRICT</th>\n",
              "      <th>POLICE_DISTRICT</th>\n",
              "      <th>CITY_SCALE_MAPS</th>\n",
              "      <th>LOCAL_SCALE_MAPS</th>\n",
              "      <th>PROGRAM_SITES</th>\n",
              "      <th>COMMENTS</th>\n",
              "      <th>Shape__Area</th>\n",
              "      <th>Shape__Length</th>\n",
              "    </tr>\n",
              "  </thead>\n",
              "  <tbody>\n",
              "    <tr>\n",
              "      <th>509</th>\n",
              "      <td>524</td>\n",
              "      <td>Tacony Creek Park</td>\n",
              "      <td>Tacony Creek Park</td>\n",
              "      <td>N</td>\n",
              "      <td>Tacony Creek Park</td>\n",
              "      <td>Tacony Creek Park</td>\n",
              "      <td>Brookwood Park</td>\n",
              "      <td>1961</td>\n",
              "      <td>NaN</td>\n",
              "      <td>19120</td>\n",
              "      <td>...</td>\n",
              "      <td>NaN</td>\n",
              "      <td>3</td>\n",
              "      <td>7, 9</td>\n",
              "      <td>2, 15, 24, 25, 35</td>\n",
              "      <td>Y</td>\n",
              "      <td>Y</td>\n",
              "      <td>N</td>\n",
              "      <td>NaN</td>\n",
              "      <td>1.385218e+06</td>\n",
              "      <td>19003.764664</td>\n",
              "    </tr>\n",
              "    <tr>\n",
              "      <th>510</th>\n",
              "      <td>525</td>\n",
              "      <td>Franklin Delano Roosevelt Park</td>\n",
              "      <td>Franklin Delano Roosevelt Park</td>\n",
              "      <td>N</td>\n",
              "      <td>Franklin Delano Roosevelt (FDR) Park</td>\n",
              "      <td>FDR Park</td>\n",
              "      <td>League Island Park;The Lakes;FDR Park</td>\n",
              "      <td>231</td>\n",
              "      <td>3500 S BROAD ST</td>\n",
              "      <td>19145</td>\n",
              "      <td>...</td>\n",
              "      <td>NaN</td>\n",
              "      <td>7</td>\n",
              "      <td>2</td>\n",
              "      <td>1</td>\n",
              "      <td>Y</td>\n",
              "      <td>Y</td>\n",
              "      <td>N</td>\n",
              "      <td>NaN</td>\n",
              "      <td>2.388505e+06</td>\n",
              "      <td>6568.830576</td>\n",
              "    </tr>\n",
              "    <tr>\n",
              "      <th>511</th>\n",
              "      <td>526</td>\n",
              "      <td>Hunting Park</td>\n",
              "      <td>Hunting Park</td>\n",
              "      <td>N</td>\n",
              "      <td>NaN</td>\n",
              "      <td>Hunting</td>\n",
              "      <td>NaN</td>\n",
              "      <td>845</td>\n",
              "      <td>1101 W HUNTING PARK AVE</td>\n",
              "      <td>19140</td>\n",
              "      <td>...</td>\n",
              "      <td>NaN</td>\n",
              "      <td>3</td>\n",
              "      <td>5</td>\n",
              "      <td>25</td>\n",
              "      <td>Y</td>\n",
              "      <td>Y</td>\n",
              "      <td>Y</td>\n",
              "      <td>NaN</td>\n",
              "      <td>4.911561e+05</td>\n",
              "      <td>4036.792375</td>\n",
              "    </tr>\n",
              "    <tr>\n",
              "      <th>512</th>\n",
              "      <td>527</td>\n",
              "      <td>Awbury Park and Recreation Center</td>\n",
              "      <td>Awbury Park and Recreation Center</td>\n",
              "      <td>N</td>\n",
              "      <td>Awbury Park and Recreation Center</td>\n",
              "      <td>Awbury</td>\n",
              "      <td>NaN</td>\n",
              "      <td>604</td>\n",
              "      <td>6101 ARDLEIGH ST</td>\n",
              "      <td>19138</td>\n",
              "      <td>...</td>\n",
              "      <td>NaN</td>\n",
              "      <td>4</td>\n",
              "      <td>8</td>\n",
              "      <td>14</td>\n",
              "      <td>Y</td>\n",
              "      <td>Y</td>\n",
              "      <td>Y</td>\n",
              "      <td>Review the parcel boundaries</td>\n",
              "      <td>1.930695e+05</td>\n",
              "      <td>2019.278021</td>\n",
              "    </tr>\n",
              "    <tr>\n",
              "      <th>513</th>\n",
              "      <td>528</td>\n",
              "      <td>Fisher Park</td>\n",
              "      <td>Fisher Park</td>\n",
              "      <td>N</td>\n",
              "      <td>Fisher Park</td>\n",
              "      <td>Fisher</td>\n",
              "      <td>NaN</td>\n",
              "      <td>679</td>\n",
              "      <td>572 W SPENCER ST</td>\n",
              "      <td>19120</td>\n",
              "      <td>...</td>\n",
              "      <td>NaN</td>\n",
              "      <td>3</td>\n",
              "      <td>9</td>\n",
              "      <td>35</td>\n",
              "      <td>Y</td>\n",
              "      <td>Y</td>\n",
              "      <td>Y</td>\n",
              "      <td>NaN</td>\n",
              "      <td>1.693630e+05</td>\n",
              "      <td>1798.578647</td>\n",
              "    </tr>\n",
              "  </tbody>\n",
              "</table>\n",
              "<p>5 rows × 25 columns</p>\n",
              "</div>\n",
              "      <button class=\"colab-df-convert\" onclick=\"convertToInteractive('df-2e16b188-bdb5-4ca0-87e2-e7f5849e4454')\"\n",
              "              title=\"Convert this dataframe to an interactive table.\"\n",
              "              style=\"display:none;\">\n",
              "        \n",
              "  <svg xmlns=\"http://www.w3.org/2000/svg\" height=\"24px\"viewBox=\"0 0 24 24\"\n",
              "       width=\"24px\">\n",
              "    <path d=\"M0 0h24v24H0V0z\" fill=\"none\"/>\n",
              "    <path d=\"M18.56 5.44l.94 2.06.94-2.06 2.06-.94-2.06-.94-.94-2.06-.94 2.06-2.06.94zm-11 1L8.5 8.5l.94-2.06 2.06-.94-2.06-.94L8.5 2.5l-.94 2.06-2.06.94zm10 10l.94 2.06.94-2.06 2.06-.94-2.06-.94-.94-2.06-.94 2.06-2.06.94z\"/><path d=\"M17.41 7.96l-1.37-1.37c-.4-.4-.92-.59-1.43-.59-.52 0-1.04.2-1.43.59L10.3 9.45l-7.72 7.72c-.78.78-.78 2.05 0 2.83L4 21.41c.39.39.9.59 1.41.59.51 0 1.02-.2 1.41-.59l7.78-7.78 2.81-2.81c.8-.78.8-2.07 0-2.86zM5.41 20L4 18.59l7.72-7.72 1.47 1.35L5.41 20z\"/>\n",
              "  </svg>\n",
              "      </button>\n",
              "      \n",
              "  <style>\n",
              "    .colab-df-container {\n",
              "      display:flex;\n",
              "      flex-wrap:wrap;\n",
              "      gap: 12px;\n",
              "    }\n",
              "\n",
              "    .colab-df-convert {\n",
              "      background-color: #E8F0FE;\n",
              "      border: none;\n",
              "      border-radius: 50%;\n",
              "      cursor: pointer;\n",
              "      display: none;\n",
              "      fill: #1967D2;\n",
              "      height: 32px;\n",
              "      padding: 0 0 0 0;\n",
              "      width: 32px;\n",
              "    }\n",
              "\n",
              "    .colab-df-convert:hover {\n",
              "      background-color: #E2EBFA;\n",
              "      box-shadow: 0px 1px 2px rgba(60, 64, 67, 0.3), 0px 1px 3px 1px rgba(60, 64, 67, 0.15);\n",
              "      fill: #174EA6;\n",
              "    }\n",
              "\n",
              "    [theme=dark] .colab-df-convert {\n",
              "      background-color: #3B4455;\n",
              "      fill: #D2E3FC;\n",
              "    }\n",
              "\n",
              "    [theme=dark] .colab-df-convert:hover {\n",
              "      background-color: #434B5C;\n",
              "      box-shadow: 0px 1px 3px 1px rgba(0, 0, 0, 0.15);\n",
              "      filter: drop-shadow(0px 1px 2px rgba(0, 0, 0, 0.3));\n",
              "      fill: #FFFFFF;\n",
              "    }\n",
              "  </style>\n",
              "\n",
              "      <script>\n",
              "        const buttonEl =\n",
              "          document.querySelector('#df-2e16b188-bdb5-4ca0-87e2-e7f5849e4454 button.colab-df-convert');\n",
              "        buttonEl.style.display =\n",
              "          google.colab.kernel.accessAllowed ? 'block' : 'none';\n",
              "\n",
              "        async function convertToInteractive(key) {\n",
              "          const element = document.querySelector('#df-2e16b188-bdb5-4ca0-87e2-e7f5849e4454');\n",
              "          const dataTable =\n",
              "            await google.colab.kernel.invokeFunction('convertToInteractive',\n",
              "                                                     [key], {});\n",
              "          if (!dataTable) return;\n",
              "\n",
              "          const docLinkHtml = 'Like what you see? Visit the ' +\n",
              "            '<a target=\"_blank\" href=https://colab.research.google.com/notebooks/data_table.ipynb>data table notebook</a>'\n",
              "            + ' to learn more about interactive tables.';\n",
              "          element.innerHTML = '';\n",
              "          dataTable['output_type'] = 'display_data';\n",
              "          await google.colab.output.renderOutput(dataTable, element);\n",
              "          const docLink = document.createElement('div');\n",
              "          docLink.innerHTML = docLinkHtml;\n",
              "          element.appendChild(docLink);\n",
              "        }\n",
              "      </script>\n",
              "    </div>\n",
              "  </div>\n",
              "  "
            ]
          },
          "metadata": {},
          "execution_count": 8
        }
      ]
    },
    {
      "cell_type": "markdown",
      "source": [],
      "metadata": {
        "id": "7XQFKPWkAs1N"
      }
    },
    {
      "cell_type": "markdown",
      "metadata": {
        "id": "EyfxxJTQ1oKR"
      },
      "source": [
        "## meausre the central tendency of the Philly park sizes\n",
        "measure the mean and the median and compare them"
      ]
    },
    {
      "cell_type": "code",
      "source": [
        "meanps = pparks['ACREAGE'].mean()\n",
        "medps = pparks['ACREAGE'].median()"
      ],
      "metadata": {
        "id": "euH8v32xCzlm"
      },
      "execution_count": 12,
      "outputs": []
    },
    {
      "cell_type": "code",
      "source": [
        "# show the mean and median sizes of the dataframe \n",
        "# are they the same? \n",
        "if(meanps == medps):\n",
        "  print('The median and the mean are the same')\n",
        "else:\n",
        "    print('The median is different than the mean')\n",
        "\n",
        "# Printing the mean and median\n",
        "print('The Mean is', meanps.round(1),'\\nThe Median is', medps.round(1))\n",
        "\n"
      ],
      "metadata": {
        "colab": {
          "base_uri": "https://localhost:8080/"
        },
        "id": "aqRpJYTiCMy-",
        "outputId": "ab165a91-70ba-426c-b12d-e1f25cd96134"
      },
      "execution_count": 41,
      "outputs": [
        {
          "output_type": "stream",
          "name": "stdout",
          "text": [
            "The median is different than the mean\n",
            "The Mean is 19.7 \n",
            "The Median is 3.4\n"
          ]
        }
      ]
    },
    {
      "cell_type": "markdown",
      "source": [
        "1. what can you conclude from the values of the mean and median you extracted? (discuss in a text cell below)\n",
        "\n",
        "2. What can you say about the distribution of the ACREAGE variable in the data? \n",
        "\n",
        "\n",
        "\n"
      ],
      "metadata": {
        "id": "Jfu_AxT9DY-U"
      }
    },
    {
      "cell_type": "markdown",
      "source": [
        "The mean is ~6 times higher than the median, which tells us that in the data there are a few very large values that \"pull\" the mean upward, although the majority of the data entries have values that are low compared to the outliers. An assymetric distribution (right side more acceuntated). "
      ],
      "metadata": {
        "id": "_ifTpzlvIi0t"
      }
    },
    {
      "cell_type": "markdown",
      "source": [
        "hint: to plot a line over the histogram use pl.axvline(x=myx) and pass to this function the x value corresponding to the mean and to the median (in my example that would be called myx). As a default, this will plot a line that spanns the whole y range"
      ],
      "metadata": {
        "id": "IGkSdkRvGDkd"
      }
    },
    {
      "cell_type": "markdown",
      "source": [
        "hint: you can import the plotting package matplotlib.pylab and call pylab functions as \n",
        "```pl.plot()```\n",
        "```pl.axvline()```\n",
        "```pl.xlabel```\n",
        "\n",
        "or you can create a figure with the first command starting from the pandas dataframe as\n",
        "```ax = pparks[\"ACREAGE\"].hist()```\n",
        "\n",
        "and then use methods specific of the axis object ```ax```: ```ax.plot()``` ```ax.axvline()``` ```ax.set_xlabel```\n",
        "\n",
        "most of the commands are the same or have small differences (e.g. ```ax.set_xlabel``` instead of ```pl.xlabel```)"
      ],
      "metadata": {
        "id": "Ky_fv5EiGE01"
      }
    },
    {
      "cell_type": "code",
      "source": [
        "# visualize a histogram of the park size. \n",
        "# you can use the method of the ACREAGE column .hist()\n",
        "# choose an appropriate number of bins with the argument bins=\n",
        "# overplot on the histogram the mean and the median of the distribution\n",
        "pparks['ACREAGE'].hist(color='b')\n",
        "plt.gca().axvline(meanps, c='r', label='Mean')\n",
        "plt.gca().axvline(medps, c='k', linestyle='--', label='Median')\n",
        "plt.gca().set_xlabel('Philly park size [acres]')\n",
        "plt.gca().set_ylabel('Number of parks')\n",
        "plt.legend()\n",
        "#to get the legend to render pass to axvline the argument label=\"...\" with ... being whatever you want displayed\n"
      ],
      "metadata": {
        "colab": {
          "base_uri": "https://localhost:8080/",
          "height": 296
        },
        "id": "dVanccoKFkIe",
        "outputId": "dc838acf-0ffe-494c-b3c7-03bf3b8e1c23"
      },
      "execution_count": 30,
      "outputs": [
        {
          "output_type": "execute_result",
          "data": {
            "text/plain": [
              "<matplotlib.legend.Legend at 0x7f15899982b0>"
            ]
          },
          "metadata": {},
          "execution_count": 30
        },
        {
          "output_type": "display_data",
          "data": {
            "text/plain": [
              "<Figure size 432x288 with 1 Axes>"
            ],
            "image/png": "[encoded data removed]"
          },
          "metadata": {
            "needs_background": "light"
          }
        }
      ]
    },
    {
      "cell_type": "markdown",
      "source": [
        "3. Describe what the graph mean\n",
        "\n"
      ],
      "metadata": {
        "id": "y50ST3broab4"
      }
    },
    {
      "cell_type": "markdown",
      "source": [
        "As said above, we see the outliers in the very high values (>250 acres) that pull the mean (red line) to be higher that the median (dashed black). But the majority of the data is 0<=x<250, as the highest bin suggests."
      ],
      "metadata": {
        "id": "YS5XAgJNK1FZ"
      }
    },
    {
      "cell_type": "markdown",
      "metadata": {
        "id": "VlJDAh6s1ESG"
      },
      "source": [
        "## 4. what is the spread of park sizes?\n",
        "calculate the standard deviation of the park sized\n",
        "\n",
        "Remember to manage the decimal places"
      ]
    },
    {
      "cell_type": "code",
      "source": [
        "#Calculating the standard deviation of the park sizes\n",
        "stdps = pparks['ACREAGE'].std()\n",
        "print(\"The standard deviation of the park sizes is\", stdps.round(1))"
      ],
      "metadata": {
        "colab": {
          "base_uri": "https://localhost:8080/"
        },
        "id": "GbXj8VrKqlR6",
        "outputId": "bb309475-d5d3-45ba-cc8f-85c86264375e"
      },
      "execution_count": 42,
      "outputs": [
        {
          "output_type": "stream",
          "name": "stdout",
          "text": [
            "The standard deviation of the park sizes is 110.6\n"
          ]
        }
      ]
    },
    {
      "cell_type": "markdown",
      "metadata": {
        "id": "3av2lwsDx3vu"
      },
      "source": [
        "### 5. select only a subset of the parks: the pasks smaller than 10 acres\n",
        "(you can do it similarly to the way we removed \"Unknown\" from the criminal arrests data in class: set a condition and use it to index the dataframe)\n",
        "\n",
        "calculate the mean and median and plot a histogram of the park sized with the mean and median indicated on the plot"
      ]
    },
    {
      "cell_type": "code",
      "source": [
        "# if you need help with this step do ask me about boolean arrays used as indices\n",
        "# and slicing of arrays and series! remember we have a slack channel #hw3\n",
        "\n",
        "ax = pparks[~(pparks[\"ACREAGE\"]==\"Unknown\")][\"ACREAGE\"].unique()\n",
        "smallparks = pparks.loc[pparks['ACREAGE'] < 10]\n",
        "smallparks.head()"
      ],
      "metadata": {
        "colab": {
          "base_uri": "https://localhost:8080/",
          "height": 508
        },
        "id": "JWaTtoPn2e14",
        "outputId": "b7d7570c-1ddc-4528-8016-c751a29d1d4d"
      },
      "execution_count": 33,
      "outputs": [
        {
          "output_type": "execute_result",
          "data": {
            "text/plain": [
              "   OBJECTID                           PUBLIC_NAME             PARENT_NAME  \\\n",
              "1         2              Whitby Avenue Playground        Cobbs Creek Park   \n",
              "2         3                29th and Passyunk Park  29th and Passyunk Park   \n",
              "3         4                 Price Street Play Lot   Price Street Play Lot   \n",
              "5         6                Robert Wilson III Park        Cobbs Creek Park   \n",
              "6         7  Rufus O Williams Memorial Playground        Cobbs Creek Park   \n",
              "\n",
              "  NESTED                          OFFICIAL_NAME              LABEL  \\\n",
              "1      Y                                    NaN             Whitby   \n",
              "2      N                                    NaN  29th and Passyunk   \n",
              "3      N                                    NaN           Price St   \n",
              "5      Y                 Robert Wilson III Park             Wilson   \n",
              "6      Y  Rufus O. Williams Memorial Playground         R Williams   \n",
              "\n",
              "                               ALIAS  DPP_ASSET_ID           ADDRESS_911  \\\n",
              "1                                             1372  1300 COBBS CREEK PKY   \n",
              "2                                              432   2827 W PASSYUNK AVE   \n",
              "3                                              826        185 W PRICE ST   \n",
              "5  61st and Baltimore Ave Playground          3454    6100 BALTIMORE AVE   \n",
              "6             Cobbs Creek Playground          2128   700 COBBS CREEK PKY   \n",
              "\n",
              "   ZIP_CODE  ... PPR_DISTRICT PPR_OPS_DISTRICT  COUNCIL_DISTRICT  \\\n",
              "1     19143  ...          NaN                8                 3   \n",
              "2     19145  ...          NaN                7                 2   \n",
              "3     19144  ...          NaN                4                 8   \n",
              "5     19143  ...          NaN                8                 3   \n",
              "6     19143  ...          NaN                8                 3   \n",
              "\n",
              "  POLICE_DISTRICT CITY_SCALE_MAPS  LOCAL_SCALE_MAPS PROGRAM_SITES  \\\n",
              "1              12               Y                 Y             Y   \n",
              "2               1               Y                 Y             Y   \n",
              "3              14               Y                 Y             N   \n",
              "5              12               Y                 Y             Y   \n",
              "6              18               Y                 Y             N   \n",
              "\n",
              "                                       COMMENTS   Shape__Area Shape__Length  \n",
              "1                                           NaN  38916.484375    949.498194  \n",
              "2                                           NaN   3830.242188    247.032048  \n",
              "3                                           NaN   1249.839844    143.734003  \n",
              "5  1911 Ordinance assigned to Department of Rec   8015.187500    360.391789  \n",
              "6                                           NaN  26413.429688    817.250366  \n",
              "\n",
              "[5 rows x 25 columns]"
            ],
            "text/html": [
              "\n",
              "  <div id=\"df-6dc7122d-8036-457a-a6ea-7231f4a056b1\">\n",
              "    <div class=\"colab-df-container\">\n",
              "      <div>\n",
              "<style scoped>\n",
              "    .dataframe tbody tr th:only-of-type {\n",
              "        vertical-align: middle;\n",
              "    }\n",
              "\n",
              "    .dataframe tbody tr th {\n",
              "        vertical-align: top;\n",
              "    }\n",
              "\n",
              "    .dataframe thead th {\n",
              "        text-align: right;\n",
              "    }\n",
              "</style>\n",
              "<table border=\"1\" class=\"dataframe\">\n",
              "  <thead>\n",
              "    <tr style=\"text-align: right;\">\n",
              "      <th></th>\n",
              "      <th>OBJECTID</th>\n",
              "      <th>PUBLIC_NAME</th>\n",
              "      <th>PARENT_NAME</th>\n",
              "      <th>NESTED</th>\n",
              "      <th>OFFICIAL_NAME</th>\n",
              "      <th>LABEL</th>\n",
              "      <th>ALIAS</th>\n",
              "      <th>DPP_ASSET_ID</th>\n",
              "      <th>ADDRESS_911</th>\n",
              "      <th>ZIP_CODE</th>\n",
              "      <th>...</th>\n",
              "      <th>PPR_DISTRICT</th>\n",
              "      <th>PPR_OPS_DISTRICT</th>\n",
              "      <th>COUNCIL_DISTRICT</th>\n",
              "      <th>POLICE_DISTRICT</th>\n",
              "      <th>CITY_SCALE_MAPS</th>\n",
              "      <th>LOCAL_SCALE_MAPS</th>\n",
              "      <th>PROGRAM_SITES</th>\n",
              "      <th>COMMENTS</th>\n",
              "      <th>Shape__Area</th>\n",
              "      <th>Shape__Length</th>\n",
              "    </tr>\n",
              "  </thead>\n",
              "  <tbody>\n",
              "    <tr>\n",
              "      <th>1</th>\n",
              "      <td>2</td>\n",
              "      <td>Whitby Avenue Playground</td>\n",
              "      <td>Cobbs Creek Park</td>\n",
              "      <td>Y</td>\n",
              "      <td>NaN</td>\n",
              "      <td>Whitby</td>\n",
              "      <td></td>\n",
              "      <td>1372</td>\n",
              "      <td>1300 COBBS CREEK PKY</td>\n",
              "      <td>19143</td>\n",
              "      <td>...</td>\n",
              "      <td>NaN</td>\n",
              "      <td>8</td>\n",
              "      <td>3</td>\n",
              "      <td>12</td>\n",
              "      <td>Y</td>\n",
              "      <td>Y</td>\n",
              "      <td>Y</td>\n",
              "      <td>NaN</td>\n",
              "      <td>38916.484375</td>\n",
              "      <td>949.498194</td>\n",
              "    </tr>\n",
              "    <tr>\n",
              "      <th>2</th>\n",
              "      <td>3</td>\n",
              "      <td>29th and Passyunk Park</td>\n",
              "      <td>29th and Passyunk Park</td>\n",
              "      <td>N</td>\n",
              "      <td>NaN</td>\n",
              "      <td>29th and Passyunk</td>\n",
              "      <td></td>\n",
              "      <td>432</td>\n",
              "      <td>2827 W PASSYUNK AVE</td>\n",
              "      <td>19145</td>\n",
              "      <td>...</td>\n",
              "      <td>NaN</td>\n",
              "      <td>7</td>\n",
              "      <td>2</td>\n",
              "      <td>1</td>\n",
              "      <td>Y</td>\n",
              "      <td>Y</td>\n",
              "      <td>Y</td>\n",
              "      <td>NaN</td>\n",
              "      <td>3830.242188</td>\n",
              "      <td>247.032048</td>\n",
              "    </tr>\n",
              "    <tr>\n",
              "      <th>3</th>\n",
              "      <td>4</td>\n",
              "      <td>Price Street Play Lot</td>\n",
              "      <td>Price Street Play Lot</td>\n",
              "      <td>N</td>\n",
              "      <td>NaN</td>\n",
              "      <td>Price St</td>\n",
              "      <td></td>\n",
              "      <td>826</td>\n",
              "      <td>185 W PRICE ST</td>\n",
              "      <td>19144</td>\n",
              "      <td>...</td>\n",
              "      <td>NaN</td>\n",
              "      <td>4</td>\n",
              "      <td>8</td>\n",
              "      <td>14</td>\n",
              "      <td>Y</td>\n",
              "      <td>Y</td>\n",
              "      <td>N</td>\n",
              "      <td>NaN</td>\n",
              "      <td>1249.839844</td>\n",
              "      <td>143.734003</td>\n",
              "    </tr>\n",
              "    <tr>\n",
              "      <th>5</th>\n",
              "      <td>6</td>\n",
              "      <td>Robert Wilson III Park</td>\n",
              "      <td>Cobbs Creek Park</td>\n",
              "      <td>Y</td>\n",
              "      <td>Robert Wilson III Park</td>\n",
              "      <td>Wilson</td>\n",
              "      <td>61st and Baltimore Ave Playground</td>\n",
              "      <td>3454</td>\n",
              "      <td>6100 BALTIMORE AVE</td>\n",
              "      <td>19143</td>\n",
              "      <td>...</td>\n",
              "      <td>NaN</td>\n",
              "      <td>8</td>\n",
              "      <td>3</td>\n",
              "      <td>12</td>\n",
              "      <td>Y</td>\n",
              "      <td>Y</td>\n",
              "      <td>Y</td>\n",
              "      <td>1911 Ordinance assigned to Department of Rec</td>\n",
              "      <td>8015.187500</td>\n",
              "      <td>360.391789</td>\n",
              "    </tr>\n",
              "    <tr>\n",
              "      <th>6</th>\n",
              "      <td>7</td>\n",
              "      <td>Rufus O Williams Memorial Playground</td>\n",
              "      <td>Cobbs Creek Park</td>\n",
              "      <td>Y</td>\n",
              "      <td>Rufus O. Williams Memorial Playground</td>\n",
              "      <td>R Williams</td>\n",
              "      <td>Cobbs Creek Playground</td>\n",
              "      <td>2128</td>\n",
              "      <td>700 COBBS CREEK PKY</td>\n",
              "      <td>19143</td>\n",
              "      <td>...</td>\n",
              "      <td>NaN</td>\n",
              "      <td>8</td>\n",
              "      <td>3</td>\n",
              "      <td>18</td>\n",
              "      <td>Y</td>\n",
              "      <td>Y</td>\n",
              "      <td>N</td>\n",
              "      <td>NaN</td>\n",
              "      <td>26413.429688</td>\n",
              "      <td>817.250366</td>\n",
              "    </tr>\n",
              "  </tbody>\n",
              "</table>\n",
              "<p>5 rows × 25 columns</p>\n",
              "</div>\n",
              "      <button class=\"colab-df-convert\" onclick=\"convertToInteractive('df-6dc7122d-8036-457a-a6ea-7231f4a056b1')\"\n",
              "              title=\"Convert this dataframe to an interactive table.\"\n",
              "              style=\"display:none;\">\n",
              "        \n",
              "  <svg xmlns=\"http://www.w3.org/2000/svg\" height=\"24px\"viewBox=\"0 0 24 24\"\n",
              "       width=\"24px\">\n",
              "    <path d=\"M0 0h24v24H0V0z\" fill=\"none\"/>\n",
              "    <path d=\"M18.56 5.44l.94 2.06.94-2.06 2.06-.94-2.06-.94-.94-2.06-.94 2.06-2.06.94zm-11 1L8.5 8.5l.94-2.06 2.06-.94-2.06-.94L8.5 2.5l-.94 2.06-2.06.94zm10 10l.94 2.06.94-2.06 2.06-.94-2.06-.94-.94-2.06-.94 2.06-2.06.94z\"/><path d=\"M17.41 7.96l-1.37-1.37c-.4-.4-.92-.59-1.43-.59-.52 0-1.04.2-1.43.59L10.3 9.45l-7.72 7.72c-.78.78-.78 2.05 0 2.83L4 21.41c.39.39.9.59 1.41.59.51 0 1.02-.2 1.41-.59l7.78-7.78 2.81-2.81c.8-.78.8-2.07 0-2.86zM5.41 20L4 18.59l7.72-7.72 1.47 1.35L5.41 20z\"/>\n",
              "  </svg>\n",
              "      </button>\n",
              "      \n",
              "  <style>\n",
              "    .colab-df-container {\n",
              "      display:flex;\n",
              "      flex-wrap:wrap;\n",
              "      gap: 12px;\n",
              "    }\n",
              "\n",
              "    .colab-df-convert {\n",
              "      background-color: #E8F0FE;\n",
              "      border: none;\n",
              "      border-radius: 50%;\n",
              "      cursor: pointer;\n",
              "      display: none;\n",
              "      fill: #1967D2;\n",
              "      height: 32px;\n",
              "      padding: 0 0 0 0;\n",
              "      width: 32px;\n",
              "    }\n",
              "\n",
              "    .colab-df-convert:hover {\n",
              "      background-color: #E2EBFA;\n",
              "      box-shadow: 0px 1px 2px rgba(60, 64, 67, 0.3), 0px 1px 3px 1px rgba(60, 64, 67, 0.15);\n",
              "      fill: #174EA6;\n",
              "    }\n",
              "\n",
              "    [theme=dark] .colab-df-convert {\n",
              "      background-color: #3B4455;\n",
              "      fill: #D2E3FC;\n",
              "    }\n",
              "\n",
              "    [theme=dark] .colab-df-convert:hover {\n",
              "      background-color: #434B5C;\n",
              "      box-shadow: 0px 1px 3px 1px rgba(0, 0, 0, 0.15);\n",
              "      filter: drop-shadow(0px 1px 2px rgba(0, 0, 0, 0.3));\n",
              "      fill: #FFFFFF;\n",
              "    }\n",
              "  </style>\n",
              "\n",
              "      <script>\n",
              "        const buttonEl =\n",
              "          document.querySelector('#df-6dc7122d-8036-457a-a6ea-7231f4a056b1 button.colab-df-convert');\n",
              "        buttonEl.style.display =\n",
              "          google.colab.kernel.accessAllowed ? 'block' : 'none';\n",
              "\n",
              "        async function convertToInteractive(key) {\n",
              "          const element = document.querySelector('#df-6dc7122d-8036-457a-a6ea-7231f4a056b1');\n",
              "          const dataTable =\n",
              "            await google.colab.kernel.invokeFunction('convertToInteractive',\n",
              "                                                     [key], {});\n",
              "          if (!dataTable) return;\n",
              "\n",
              "          const docLinkHtml = 'Like what you see? Visit the ' +\n",
              "            '<a target=\"_blank\" href=https://colab.research.google.com/notebooks/data_table.ipynb>data table notebook</a>'\n",
              "            + ' to learn more about interactive tables.';\n",
              "          element.innerHTML = '';\n",
              "          dataTable['output_type'] = 'display_data';\n",
              "          await google.colab.output.renderOutput(dataTable, element);\n",
              "          const docLink = document.createElement('div');\n",
              "          docLink.innerHTML = docLinkHtml;\n",
              "          element.appendChild(docLink);\n",
              "        }\n",
              "      </script>\n",
              "    </div>\n",
              "  </div>\n",
              "  "
            ]
          },
          "metadata": {},
          "execution_count": 33
        }
      ]
    },
    {
      "cell_type": "code",
      "source": [
        "#calculate the mean and median of the parks with size less than 10 acres\n",
        "s_parks_mean = smallparks['ACREAGE'].mean()\n",
        "s_parks_med = smallparks['ACREAGE'].median() \n",
        "print(f'The mean of small parks is  {s_parks_mean.round(1)} acres\\nThe median is {s_parks_med.round(1)} [acres]')"
      ],
      "metadata": {
        "colab": {
          "base_uri": "https://localhost:8080/"
        },
        "id": "yYFJA4Ny2Bir",
        "outputId": "772b6589-a2d9-42b1-83cd-aa4dfdccda8a"
      },
      "execution_count": 40,
      "outputs": [
        {
          "output_type": "stream",
          "name": "stdout",
          "text": [
            "The mean of small parks is  2.9 acres\n",
            "The median is 2.1 [acres]\n"
          ]
        }
      ]
    },
    {
      "cell_type": "code",
      "source": [
        "#Plot a histogram of the parks with size less than 10 acres with the mean and median indicated on the plot\n",
        "smallparks['ACREAGE'].hist(color='b')\n",
        "plt.axvline(s_parks_mean, c='r', label='Mean')\n",
        "plt.axvline(s_parks_med, c='k', linestyle='--', label='Median')\n",
        "plt.xlabel('Park size [acres]')\n",
        "plt.ylabel('Number of parks')\n",
        "plt.legend()"
      ],
      "metadata": {
        "colab": {
          "base_uri": "https://localhost:8080/",
          "height": 296
        },
        "id": "m29Bf6C-0EXa",
        "outputId": "d2a3bd7b-84ce-4132-bc4d-9c8dd73adc6c"
      },
      "execution_count": 47,
      "outputs": [
        {
          "output_type": "execute_result",
          "data": {
            "text/plain": [
              "<matplotlib.legend.Legend at 0x7f1589799ee0>"
            ]
          },
          "metadata": {},
          "execution_count": 47
        },
        {
          "output_type": "display_data",
          "data": {
            "text/plain": [
              "<Figure size 432x288 with 1 Axes>"
            ],
            "image/png": "[encoded data removed]"
          },
          "metadata": {
            "needs_background": "light"
          }
        }
      ]
    },
    {
      "cell_type": "markdown",
      "metadata": {
        "id": "34a6oAaM1DJG"
      },
      "source": [
        "\n",
        "6. Imagine that the reader has no access to my instructions, or to the code. What does this figure show? what should the reader note about the figure?\n"
      ]
    },
    {
      "cell_type": "markdown",
      "source": [
        "The distribution again shows that there are many low values and few high values, which again pushes the mean to be slightly higher than the median. "
      ],
      "metadata": {
        "id": "-spKIbSbQAMf"
      }
    },
    {
      "cell_type": "markdown",
      "metadata": {
        "id": "vPDVrnGb3xwF"
      },
      "source": [
        "\n",
        "The parks listed in each row are in some cases subsets of larger parks. The \"parent\" park is listed under PARENT_NAME. \n",
        "\n",
        "The challenge is to visualize the distribution of sizes of the  parent parks. To do that you have to aggregate the parks based on the \"PARENT_NAME\" value and sum the size of the parks. The methods of the dataframe you want to use are \n",
        "```.groupby()```\n",
        "and \n",
        "```.sum()```"
      ]
    },
    {
      "cell_type": "code",
      "source": [
        "# Grouping the Parks based on the parent name\n",
        "group_park = pparks.groupby(['PARENT_NAME']).sum()\n",
        "group_park"
      ],
      "metadata": {
        "colab": {
          "base_uri": "https://localhost:8080/",
          "height": 455
        },
        "id": "0MYyUURQ5rxw",
        "outputId": "a507e1a3-07bc-4360-e918-0ace2cc08f0d"
      },
      "execution_count": null,
      "outputs": [
        {
          "output_type": "execute_result",
          "data": {
            "text/plain": [
              "                                   OBJECTID  DPP_ASSET_ID  ZIP_CODE  \\\n",
              "PARENT_NAME                                                           \n",
              "10th and Lemon Playground                37          2914     19123   \n",
              "11th and Cecil B Moore Playground       179          1135     19122   \n",
              "12th and Cambria Playground             257          1800     19133   \n",
              "18th and Jackson War Memorial           381          1215     19145   \n",
              "20th and Tioga Field                    288           573     19140   \n",
              "...                                     ...           ...       ...   \n",
              "Womrath Park                            259           120     19124   \n",
              "Wooden Bridge Run                        72          1632     19114   \n",
              "Woodside Park                           246          1840     19131   \n",
              "Woodward Pines                          299          2823     19118   \n",
              "Yorktown Commons                       2841         20997    114732   \n",
              "\n",
              "                                     ACREAGE  PPR_DISTRICT    Shape__Area  \\\n",
              "PARENT_NAME                                                                 \n",
              "10th and Lemon Playground           0.218885            10    1509.675781   \n",
              "11th and Cecil B Moore Playground   5.181666            10   35754.375000   \n",
              "12th and Cambria Playground         2.337374             6   16136.882812   \n",
              "18th and Jackson War Memorial       0.083383             9     574.429688   \n",
              "20th and Tioga Field                1.195232             6    8254.367188   \n",
              "...                                      ...           ...            ...   \n",
              "Womrath Park                        2.167680             3   14970.460938   \n",
              "Wooden Bridge Run                  49.095667             1  339623.484375   \n",
              "Woodside Park                       2.619728             7   18088.925781   \n",
              "Woodward Pines                      1.354531             4    9370.800781   \n",
              "Yorktown Commons                    0.776328            60    5356.140625   \n",
              "\n",
              "                                   Shape__Length  \n",
              "PARENT_NAME                                       \n",
              "10th and Lemon Playground             169.494221  \n",
              "11th and Cecil B Moore Playground     755.891229  \n",
              "12th and Cambria Playground           542.995987  \n",
              "18th and Jackson War Memorial         148.363162  \n",
              "20th and Tioga Field                  365.439378  \n",
              "...                                          ...  \n",
              "Womrath Park                          591.724807  \n",
              "Wooden Bridge Run                    4653.000056  \n",
              "Woodside Park                         615.286813  \n",
              "Woodward Pines                        755.404286  \n",
              "Yorktown Commons                      880.120482  \n",
              "\n",
              "[395 rows x 7 columns]"
            ],
            "text/html": [
              "\n",
              "  <div id=\"df-cb6c3fe1-c557-444b-a900-7592e2b6ca1e\">\n",
              "    <div class=\"colab-df-container\">\n",
              "      <div>\n",
              "<style scoped>\n",
              "    .dataframe tbody tr th:only-of-type {\n",
              "        vertical-align: middle;\n",
              "    }\n",
              "\n",
              "    .dataframe tbody tr th {\n",
              "        vertical-align: top;\n",
              "    }\n",
              "\n",
              "    .dataframe thead th {\n",
              "        text-align: right;\n",
              "    }\n",
              "</style>\n",
              "<table border=\"1\" class=\"dataframe\">\n",
              "  <thead>\n",
              "    <tr style=\"text-align: right;\">\n",
              "      <th></th>\n",
              "      <th>OBJECTID</th>\n",
              "      <th>DPP_ASSET_ID</th>\n",
              "      <th>ZIP_CODE</th>\n",
              "      <th>ACREAGE</th>\n",
              "      <th>PPR_DISTRICT</th>\n",
              "      <th>Shape__Area</th>\n",
              "      <th>Shape__Length</th>\n",
              "    </tr>\n",
              "    <tr>\n",
              "      <th>PARENT_NAME</th>\n",
              "      <th></th>\n",
              "      <th></th>\n",
              "      <th></th>\n",
              "      <th></th>\n",
              "      <th></th>\n",
              "      <th></th>\n",
              "      <th></th>\n",
              "    </tr>\n",
              "  </thead>\n",
              "  <tbody>\n",
              "    <tr>\n",
              "      <th>10th and Lemon Playground</th>\n",
              "      <td>37</td>\n",
              "      <td>2914</td>\n",
              "      <td>19123</td>\n",
              "      <td>0.218885</td>\n",
              "      <td>10</td>\n",
              "      <td>1509.675781</td>\n",
              "      <td>169.494221</td>\n",
              "    </tr>\n",
              "    <tr>\n",
              "      <th>11th and Cecil B Moore Playground</th>\n",
              "      <td>179</td>\n",
              "      <td>1135</td>\n",
              "      <td>19122</td>\n",
              "      <td>5.181666</td>\n",
              "      <td>10</td>\n",
              "      <td>35754.375000</td>\n",
              "      <td>755.891229</td>\n",
              "    </tr>\n",
              "    <tr>\n",
              "      <th>12th and Cambria Playground</th>\n",
              "      <td>257</td>\n",
              "      <td>1800</td>\n",
              "      <td>19133</td>\n",
              "      <td>2.337374</td>\n",
              "      <td>6</td>\n",
              "      <td>16136.882812</td>\n",
              "      <td>542.995987</td>\n",
              "    </tr>\n",
              "    <tr>\n",
              "      <th>18th and Jackson War Memorial</th>\n",
              "      <td>381</td>\n",
              "      <td>1215</td>\n",
              "      <td>19145</td>\n",
              "      <td>0.083383</td>\n",
              "      <td>9</td>\n",
              "      <td>574.429688</td>\n",
              "      <td>148.363162</td>\n",
              "    </tr>\n",
              "    <tr>\n",
              "      <th>20th and Tioga Field</th>\n",
              "      <td>288</td>\n",
              "      <td>573</td>\n",
              "      <td>19140</td>\n",
              "      <td>1.195232</td>\n",
              "      <td>6</td>\n",
              "      <td>8254.367188</td>\n",
              "      <td>365.439378</td>\n",
              "    </tr>\n",
              "    <tr>\n",
              "      <th>...</th>\n",
              "      <td>...</td>\n",
              "      <td>...</td>\n",
              "      <td>...</td>\n",
              "      <td>...</td>\n",
              "      <td>...</td>\n",
              "      <td>...</td>\n",
              "      <td>...</td>\n",
              "    </tr>\n",
              "    <tr>\n",
              "      <th>Womrath Park</th>\n",
              "      <td>259</td>\n",
              "      <td>120</td>\n",
              "      <td>19124</td>\n",
              "      <td>2.167680</td>\n",
              "      <td>3</td>\n",
              "      <td>14970.460938</td>\n",
              "      <td>591.724807</td>\n",
              "    </tr>\n",
              "    <tr>\n",
              "      <th>Wooden Bridge Run</th>\n",
              "      <td>72</td>\n",
              "      <td>1632</td>\n",
              "      <td>19114</td>\n",
              "      <td>49.095667</td>\n",
              "      <td>1</td>\n",
              "      <td>339623.484375</td>\n",
              "      <td>4653.000056</td>\n",
              "    </tr>\n",
              "    <tr>\n",
              "      <th>Woodside Park</th>\n",
              "      <td>246</td>\n",
              "      <td>1840</td>\n",
              "      <td>19131</td>\n",
              "      <td>2.619728</td>\n",
              "      <td>7</td>\n",
              "      <td>18088.925781</td>\n",
              "      <td>615.286813</td>\n",
              "    </tr>\n",
              "    <tr>\n",
              "      <th>Woodward Pines</th>\n",
              "      <td>299</td>\n",
              "      <td>2823</td>\n",
              "      <td>19118</td>\n",
              "      <td>1.354531</td>\n",
              "      <td>4</td>\n",
              "      <td>9370.800781</td>\n",
              "      <td>755.404286</td>\n",
              "    </tr>\n",
              "    <tr>\n",
              "      <th>Yorktown Commons</th>\n",
              "      <td>2841</td>\n",
              "      <td>20997</td>\n",
              "      <td>114732</td>\n",
              "      <td>0.776328</td>\n",
              "      <td>60</td>\n",
              "      <td>5356.140625</td>\n",
              "      <td>880.120482</td>\n",
              "    </tr>\n",
              "  </tbody>\n",
              "</table>\n",
              "<p>395 rows × 7 columns</p>\n",
              "</div>\n",
              "      <button class=\"colab-df-convert\" onclick=\"convertToInteractive('df-cb6c3fe1-c557-444b-a900-7592e2b6ca1e')\"\n",
              "              title=\"Convert this dataframe to an interactive table.\"\n",
              "              style=\"display:none;\">\n",
              "        \n",
              "  <svg xmlns=\"http://www.w3.org/2000/svg\" height=\"24px\"viewBox=\"0 0 24 24\"\n",
              "       width=\"24px\">\n",
              "    <path d=\"M0 0h24v24H0V0z\" fill=\"none\"/>\n",
              "    <path d=\"M18.56 5.44l.94 2.06.94-2.06 2.06-.94-2.06-.94-.94-2.06-.94 2.06-2.06.94zm-11 1L8.5 8.5l.94-2.06 2.06-.94-2.06-.94L8.5 2.5l-.94 2.06-2.06.94zm10 10l.94 2.06.94-2.06 2.06-.94-2.06-.94-.94-2.06-.94 2.06-2.06.94z\"/><path d=\"M17.41 7.96l-1.37-1.37c-.4-.4-.92-.59-1.43-.59-.52 0-1.04.2-1.43.59L10.3 9.45l-7.72 7.72c-.78.78-.78 2.05 0 2.83L4 21.41c.39.39.9.59 1.41.59.51 0 1.02-.2 1.41-.59l7.78-7.78 2.81-2.81c.8-.78.8-2.07 0-2.86zM5.41 20L4 18.59l7.72-7.72 1.47 1.35L5.41 20z\"/>\n",
              "  </svg>\n",
              "      </button>\n",
              "      \n",
              "  <style>\n",
              "    .colab-df-container {\n",
              "      display:flex;\n",
              "      flex-wrap:wrap;\n",
              "      gap: 12px;\n",
              "    }\n",
              "\n",
              "    .colab-df-convert {\n",
              "      background-color: #E8F0FE;\n",
              "      border: none;\n",
              "      border-radius: 50%;\n",
              "      cursor: pointer;\n",
              "      display: none;\n",
              "      fill: #1967D2;\n",
              "      height: 32px;\n",
              "      padding: 0 0 0 0;\n",
              "      width: 32px;\n",
              "    }\n",
              "\n",
              "    .colab-df-convert:hover {\n",
              "      background-color: #E2EBFA;\n",
              "      box-shadow: 0px 1px 2px rgba(60, 64, 67, 0.3), 0px 1px 3px 1px rgba(60, 64, 67, 0.15);\n",
              "      fill: #174EA6;\n",
              "    }\n",
              "\n",
              "    [theme=dark] .colab-df-convert {\n",
              "      background-color: #3B4455;\n",
              "      fill: #D2E3FC;\n",
              "    }\n",
              "\n",
              "    [theme=dark] .colab-df-convert:hover {\n",
              "      background-color: #434B5C;\n",
              "      box-shadow: 0px 1px 3px 1px rgba(0, 0, 0, 0.15);\n",
              "      filter: drop-shadow(0px 1px 2px rgba(0, 0, 0, 0.3));\n",
              "      fill: #FFFFFF;\n",
              "    }\n",
              "  </style>\n",
              "\n",
              "      <script>\n",
              "        const buttonEl =\n",
              "          document.querySelector('#df-cb6c3fe1-c557-444b-a900-7592e2b6ca1e button.colab-df-convert');\n",
              "        buttonEl.style.display =\n",
              "          google.colab.kernel.accessAllowed ? 'block' : 'none';\n",
              "\n",
              "        async function convertToInteractive(key) {\n",
              "          const element = document.querySelector('#df-cb6c3fe1-c557-444b-a900-7592e2b6ca1e');\n",
              "          const dataTable =\n",
              "            await google.colab.kernel.invokeFunction('convertToInteractive',\n",
              "                                                     [key], {});\n",
              "          if (!dataTable) return;\n",
              "\n",
              "          const docLinkHtml = 'Like what you see? Visit the ' +\n",
              "            '<a target=\"_blank\" href=https://colab.research.google.com/notebooks/data_table.ipynb>data table notebook</a>'\n",
              "            + ' to learn more about interactive tables.';\n",
              "          element.innerHTML = '';\n",
              "          dataTable['output_type'] = 'display_data';\n",
              "          await google.colab.output.renderOutput(dataTable, element);\n",
              "          const docLink = document.createElement('div');\n",
              "          docLink.innerHTML = docLinkHtml;\n",
              "          element.appendChild(docLink);\n",
              "        }\n",
              "      </script>\n",
              "    </div>\n",
              "  </div>\n",
              "  "
            ]
          },
          "metadata": {},
          "execution_count": 15
        }
      ]
    },
    {
      "cell_type": "markdown",
      "source": [
        "7 Using **sns.pairplot** plot the pairplot of ACREAGE\tand Shape__Area variables. What is the relationship that you can see?"
      ],
      "metadata": {
        "id": "MpCZ-uRZor2Y"
      }
    },
    {
      "cell_type": "code",
      "source": [
        "# Plotting pairplot \n",
        "\n",
        "pair = ...\n",
        "pair"
      ],
      "metadata": {
        "id": "sLqZq7KJpAz2"
      },
      "execution_count": null,
      "outputs": []
    },
    {
      "cell_type": "code",
      "source": [
        "sns.pairplot(group_park[pair], size=2.0)"
      ],
      "metadata": {
        "id": "ZiL-x37apdCK"
      },
      "execution_count": null,
      "outputs": []
    },
    {
      "cell_type": "code",
      "source": [
        "#Visualize the distribution of the parks grouped by parent name \n",
        "# Calculate mean and median\n",
        "groupmean = group_park['ACREAGE'].mean()\n",
        "groupmedian = group_park['ACREAGE'].median()\n",
        "print('The Mean of the grouped Parks is:', groupmean)\n",
        "print('The Median of the grouped Parks is:', groupmedian)"
      ],
      "metadata": {
        "colab": {
          "base_uri": "https://localhost:8080/"
        },
        "id": "wLMl4Y2h6iIY",
        "outputId": "303a4a28-f098-40a4-a9a0-ac1e186bbad9"
      },
      "execution_count": null,
      "outputs": [
        {
          "output_type": "stream",
          "name": "stdout",
          "text": [
            "The Mean of the grouped Parks is: 25.67880791134177\n",
            "The Median of the grouped Parks is: 2.90762604\n"
          ]
        }
      ]
    },
    {
      "cell_type": "markdown",
      "source": [
        "8. Visualize the distribution of the parks grouped by parent name"
      ],
      "metadata": {
        "id": "OQLjLl73nT6X"
      }
    },
    {
      "cell_type": "code",
      "metadata": {
        "id": "ukYunCxr-TwY",
        "colab": {
          "base_uri": "https://localhost:8080/",
          "height": 330
        },
        "outputId": "2546dd8f-3b0c-4c8d-978f-cbfdc6690de9"
      },
      "source": [
        "#Visualize the distribution of the parks grouped by parent name\n",
        "\n",
        "ax =...\n",
        "\n",
        "ax.axvline(groupmean, color='red', linestyle='solid', linewidth=1.5, alpha = .8)\n",
        "ax.axvline(groupmedian, color='green', linestyle='solid', linewidth=1.5, alpha = .8)\n",
        "ax.legend([groupmean, groupmedian], labels = ['mean', 'median'])\n",
        "ax.set_xlabel('Park size in acres')\n",
        "ax.set_ylabel('Number of parks')\n",
        "\n",
        "pylab.title(...);"
      ],
      "execution_count": null,
      "outputs": [
        {
          "output_type": "stream",
          "name": "stderr",
          "text": [
            "/usr/local/lib/python3.7/dist-packages/ipykernel_launcher.py:4: UserWarning: You have mixed positional and keyword arguments, some input may be discarded.\n",
            "  after removing the cwd from sys.path.\n"
          ]
        },
        {
          "output_type": "display_data",
          "data": {
            "text/plain": [
              "<Figure size 432x288 with 1 Axes>"
            ],
            "image/png": "[encoded data removed]"
          },
          "metadata": {
            "needs_background": "light"
          }
        }
      ]
    },
    {
      "cell_type": "markdown",
      "metadata": {
        "id": "BGEayx7x5xdl"
      },
      "source": [
        "9. Explain what the graph means"
      ]
    },
    {
      "cell_type": "markdown",
      "metadata": {
        "id": "OdMYUhIK7NY9"
      },
      "source": [
        "10. What could you measure about this new dataset obtained by grouping the data by PARENT_NAME that would allow you to investigate further the difference in the two dataset? "
      ]
    },
    {
      "cell_type": "code",
      "source": [
        "# Measuring the standard deviation of the group parks\n",
        "\n",
        "....\n",
        "\n",
        "print (\"The standard deviation of the grouped data set is\", group_std)"
      ],
      "metadata": {
        "colab": {
          "base_uri": "https://localhost:8080/"
        },
        "id": "lL_WTDmqAyvM",
        "outputId": "6309e17a-54d5-478c-bbf9-417c7269045a"
      },
      "execution_count": null,
      "outputs": [
        {
          "output_type": "stream",
          "name": "stdout",
          "text": [
            "The standard deviation of the grouped data set is 150.134389862319\n"
          ]
        }
      ]
    },
    {
      "cell_type": "markdown",
      "metadata": {
        "id": "nqlc8jq5zHR3"
      },
      "source": [
        "This standard deviation of the grouped dataset is way too large compared to the the original dataset. This potentially mean that there is more deviation or spread of the data when the parks are grouped by parent name."
      ]
    },
    {
      "cell_type": "markdown",
      "source": [
        "**END OF HOMEWORK**\n",
        "\n",
        "\n",
        "\n"
      ],
      "metadata": {
        "id": "QJ14L8wMn3Ev"
      }
    }
  ]
}